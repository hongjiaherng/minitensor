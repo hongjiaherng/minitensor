{
 "cells": [
  {
   "cell_type": "code",
   "execution_count": 20,
   "id": "60829470",
   "metadata": {},
   "outputs": [],
   "source": [
    "import numpy as np"
   ]
  },
  {
   "cell_type": "code",
   "execution_count": 38,
   "id": "ad00f3f0",
   "metadata": {},
   "outputs": [
    {
     "ename": "ValueError",
     "evalue": "cannot reshape array of size 9 into shape (2,2)",
     "output_type": "error",
     "traceback": [
      "\u001b[1;31m---------------------------------------------------------------------------\u001b[0m",
      "\u001b[1;31mValueError\u001b[0m                                Traceback (most recent call last)",
      "Input \u001b[1;32mIn [38]\u001b[0m, in \u001b[0;36m<cell line: 1>\u001b[1;34m()\u001b[0m\n\u001b[1;32m----> 1\u001b[0m \u001b[43mnp\u001b[49m\u001b[38;5;241;43m.\u001b[39;49m\u001b[43marange\u001b[49m\u001b[43m(\u001b[49m\u001b[38;5;241;43m9\u001b[39;49m\u001b[43m)\u001b[49m\u001b[38;5;241;43m.\u001b[39;49m\u001b[43mreshape\u001b[49m\u001b[43m(\u001b[49m\u001b[38;5;241;43m2\u001b[39;49m\u001b[43m,\u001b[49m\u001b[43m \u001b[49m\u001b[38;5;241;43m2\u001b[39;49m\u001b[43m)\u001b[49m\n",
      "\u001b[1;31mValueError\u001b[0m: cannot reshape array of size 9 into shape (2,2)"
     ]
    }
   ],
   "source": [
    "np.arange(9).reshape()\n",
    "np.reshape()"
   ]
  },
  {
   "cell_type": "code",
   "execution_count": 36,
   "id": "78c8b3c7",
   "metadata": {},
   "outputs": [
    {
     "name": "stdout",
     "output_type": "stream",
     "text": [
      "(array(0.07716183), array(1))\n",
      "(array(0.67636927), array(2))\n",
      "(array(0.08379681), array(3))\n",
      "(array(-1.56196435), array(1))\n",
      "(array(-0.2447), array(2))\n",
      "(array(-0.8750585), array(3))\n",
      "(array(-2.63478061), array(1))\n",
      "(array(0.72905805), array(2))\n",
      "(array(-0.5714692), array(3))\n"
     ]
    }
   ],
   "source": [
    "a = np.random.randn(3, 3)\n",
    "b = np.array([1, 2, 3])\n",
    "for i in np.nditer((a, b)):\n",
    "    print(i)"
   ]
  },
  {
   "cell_type": "code",
   "execution_count": 34,
   "id": "f9fddb75",
   "metadata": {},
   "outputs": [
    {
     "name": "stdout",
     "output_type": "stream",
     "text": [
      "1\n",
      "2\n",
      "3\n",
      "1\n",
      "2\n",
      "3\n",
      "1\n",
      "2\n",
      "3\n"
     ]
    }
   ],
   "source": [
    "for i in np.nditer(np.broadcast_to(np.array([1, 2, 3]), shape=(3, 3))):\n",
    "    print(i)"
   ]
  },
  {
   "cell_type": "code",
   "execution_count": 10,
   "id": "82e7a6d2",
   "metadata": {},
   "outputs": [],
   "source": [
    "a = np.array([1.123, 2.12313, 3.122], dtype=np.float32)\n",
    "b = np.array([10, 20, 30], dtype=np.int32)\n",
    "c = np.array([True, False, True])"
   ]
  },
  {
   "cell_type": "code",
   "execution_count": 9,
   "id": "adf8e4e6",
   "metadata": {},
   "outputs": [
    {
     "data": {
      "text/plain": [
       "array([11.12300003, 22.12313008, 33.12199998])"
      ]
     },
     "execution_count": 9,
     "metadata": {},
     "output_type": "execute_result"
    }
   ],
   "source": [
    "b + a"
   ]
  },
  {
   "cell_type": "code",
   "execution_count": 16,
   "id": "9fd5d279",
   "metadata": {},
   "outputs": [
    {
     "data": {
      "text/plain": [
       "array([2.1230001, 2.12313  , 4.1219997], dtype=float32)"
      ]
     },
     "execution_count": 16,
     "metadata": {},
     "output_type": "execute_result"
    }
   ],
   "source": [
    "c + a"
   ]
  },
  {
   "cell_type": "code",
   "execution_count": 49,
   "id": "abdac2e3",
   "metadata": {},
   "outputs": [
    {
     "data": {
      "text/plain": [
       "dtype('float64')"
      ]
     },
     "execution_count": 49,
     "metadata": {},
     "output_type": "execute_result"
    }
   ],
   "source": [
    "np.empty((3, 3)).dtype"
   ]
  },
  {
   "cell_type": "code",
   "execution_count": 47,
   "id": "13492866",
   "metadata": {},
   "outputs": [
    {
     "name": "stdout",
     "output_type": "stream",
     "text": [
      "oriShape: (2, 1, 3)\n",
      "oriStrides: [3. 3. 1.]\n"
     ]
    },
    {
     "ename": "ValueError",
     "evalue": "operands could not be broadcast together with remapped shapes [original->remapped]: (2,1,3)  and requested shape (2,3,4)",
     "output_type": "error",
     "traceback": [
      "\u001b[1;31m---------------------------------------------------------------------------\u001b[0m",
      "\u001b[1;31mValueError\u001b[0m                                Traceback (most recent call last)",
      "Input \u001b[1;32mIn [47]\u001b[0m, in \u001b[0;36m<cell line: 4>\u001b[1;34m()\u001b[0m\n\u001b[0;32m      2\u001b[0m \u001b[38;5;28mprint\u001b[39m(\u001b[38;5;124m\"\u001b[39m\u001b[38;5;124moriShape:\u001b[39m\u001b[38;5;124m\"\u001b[39m, a\u001b[38;5;241m.\u001b[39mshape)\n\u001b[0;32m      3\u001b[0m \u001b[38;5;28mprint\u001b[39m(\u001b[38;5;124m\"\u001b[39m\u001b[38;5;124moriStrides:\u001b[39m\u001b[38;5;124m\"\u001b[39m, np\u001b[38;5;241m.\u001b[39marray(a\u001b[38;5;241m.\u001b[39mstrides) \u001b[38;5;241m/\u001b[39m a\u001b[38;5;241m.\u001b[39mitemsize)\n\u001b[1;32m----> 4\u001b[0m broadcastedA \u001b[38;5;241m=\u001b[39m \u001b[43mnp\u001b[49m\u001b[38;5;241;43m.\u001b[39;49m\u001b[43mbroadcast_to\u001b[49m\u001b[43m(\u001b[49m\u001b[43ma\u001b[49m\u001b[43m,\u001b[49m\u001b[43m \u001b[49m\u001b[43m(\u001b[49m\u001b[38;5;241;43m2\u001b[39;49m\u001b[43m,\u001b[49m\u001b[43m \u001b[49m\u001b[38;5;241;43m3\u001b[39;49m\u001b[43m,\u001b[49m\u001b[43m \u001b[49m\u001b[38;5;241;43m4\u001b[39;49m\u001b[43m)\u001b[49m\u001b[43m)\u001b[49m\n\u001b[0;32m      5\u001b[0m \u001b[38;5;28mprint\u001b[39m(\u001b[38;5;124m\"\u001b[39m\u001b[38;5;124mbroadcastedShape:\u001b[39m\u001b[38;5;124m\"\u001b[39m, broadcastedA\u001b[38;5;241m.\u001b[39mshape)\n\u001b[0;32m      6\u001b[0m \u001b[38;5;28mprint\u001b[39m(\u001b[38;5;124m\"\u001b[39m\u001b[38;5;124mbroadcastedStrides:\u001b[39m\u001b[38;5;124m\"\u001b[39m, np\u001b[38;5;241m.\u001b[39marray(broadcastedA\u001b[38;5;241m.\u001b[39mstrides) \u001b[38;5;241m/\u001b[39m broadcastedA\u001b[38;5;241m.\u001b[39mitemsize)\n",
      "File \u001b[1;32m<__array_function__ internals>:180\u001b[0m, in \u001b[0;36mbroadcast_to\u001b[1;34m(*args, **kwargs)\u001b[0m\n",
      "File \u001b[1;32m~\\AppData\\Local\\Programs\\Python\\Python310\\lib\\site-packages\\numpy\\lib\\stride_tricks.py:412\u001b[0m, in \u001b[0;36mbroadcast_to\u001b[1;34m(array, shape, subok)\u001b[0m\n\u001b[0;32m    366\u001b[0m \u001b[38;5;129m@array_function_dispatch\u001b[39m(_broadcast_to_dispatcher, module\u001b[38;5;241m=\u001b[39m\u001b[38;5;124m'\u001b[39m\u001b[38;5;124mnumpy\u001b[39m\u001b[38;5;124m'\u001b[39m)\n\u001b[0;32m    367\u001b[0m \u001b[38;5;28;01mdef\u001b[39;00m \u001b[38;5;21mbroadcast_to\u001b[39m(array, shape, subok\u001b[38;5;241m=\u001b[39m\u001b[38;5;28;01mFalse\u001b[39;00m):\n\u001b[0;32m    368\u001b[0m     \u001b[38;5;124;03m\"\"\"Broadcast an array to a new shape.\u001b[39;00m\n\u001b[0;32m    369\u001b[0m \n\u001b[0;32m    370\u001b[0m \u001b[38;5;124;03m    Parameters\u001b[39;00m\n\u001b[1;32m   (...)\u001b[0m\n\u001b[0;32m    410\u001b[0m \u001b[38;5;124;03m           [1, 2, 3]])\u001b[39;00m\n\u001b[0;32m    411\u001b[0m \u001b[38;5;124;03m    \"\"\"\u001b[39;00m\n\u001b[1;32m--> 412\u001b[0m     \u001b[38;5;28;01mreturn\u001b[39;00m \u001b[43m_broadcast_to\u001b[49m\u001b[43m(\u001b[49m\u001b[43marray\u001b[49m\u001b[43m,\u001b[49m\u001b[43m \u001b[49m\u001b[43mshape\u001b[49m\u001b[43m,\u001b[49m\u001b[43m \u001b[49m\u001b[43msubok\u001b[49m\u001b[38;5;241;43m=\u001b[39;49m\u001b[43msubok\u001b[49m\u001b[43m,\u001b[49m\u001b[43m \u001b[49m\u001b[43mreadonly\u001b[49m\u001b[38;5;241;43m=\u001b[39;49m\u001b[38;5;28;43;01mTrue\u001b[39;49;00m\u001b[43m)\u001b[49m\n",
      "File \u001b[1;32m~\\AppData\\Local\\Programs\\Python\\Python310\\lib\\site-packages\\numpy\\lib\\stride_tricks.py:348\u001b[0m, in \u001b[0;36m_broadcast_to\u001b[1;34m(array, shape, subok, readonly)\u001b[0m\n\u001b[0;32m    345\u001b[0m     \u001b[38;5;28;01mraise\u001b[39;00m \u001b[38;5;167;01mValueError\u001b[39;00m(\u001b[38;5;124m'\u001b[39m\u001b[38;5;124mall elements of broadcast shape must be non-\u001b[39m\u001b[38;5;124m'\u001b[39m\n\u001b[0;32m    346\u001b[0m                      \u001b[38;5;124m'\u001b[39m\u001b[38;5;124mnegative\u001b[39m\u001b[38;5;124m'\u001b[39m)\n\u001b[0;32m    347\u001b[0m extras \u001b[38;5;241m=\u001b[39m []\n\u001b[1;32m--> 348\u001b[0m it \u001b[38;5;241m=\u001b[39m \u001b[43mnp\u001b[49m\u001b[38;5;241;43m.\u001b[39;49m\u001b[43mnditer\u001b[49m\u001b[43m(\u001b[49m\n\u001b[0;32m    349\u001b[0m \u001b[43m    \u001b[49m\u001b[43m(\u001b[49m\u001b[43marray\u001b[49m\u001b[43m,\u001b[49m\u001b[43m)\u001b[49m\u001b[43m,\u001b[49m\u001b[43m \u001b[49m\u001b[43mflags\u001b[49m\u001b[38;5;241;43m=\u001b[39;49m\u001b[43m[\u001b[49m\u001b[38;5;124;43m'\u001b[39;49m\u001b[38;5;124;43mmulti_index\u001b[39;49m\u001b[38;5;124;43m'\u001b[39;49m\u001b[43m,\u001b[49m\u001b[43m \u001b[49m\u001b[38;5;124;43m'\u001b[39;49m\u001b[38;5;124;43mrefs_ok\u001b[39;49m\u001b[38;5;124;43m'\u001b[39;49m\u001b[43m,\u001b[49m\u001b[43m \u001b[49m\u001b[38;5;124;43m'\u001b[39;49m\u001b[38;5;124;43mzerosize_ok\u001b[39;49m\u001b[38;5;124;43m'\u001b[39;49m\u001b[43m]\u001b[49m\u001b[43m \u001b[49m\u001b[38;5;241;43m+\u001b[39;49m\u001b[43m \u001b[49m\u001b[43mextras\u001b[49m\u001b[43m,\u001b[49m\n\u001b[0;32m    350\u001b[0m \u001b[43m    \u001b[49m\u001b[43mop_flags\u001b[49m\u001b[38;5;241;43m=\u001b[39;49m\u001b[43m[\u001b[49m\u001b[38;5;124;43m'\u001b[39;49m\u001b[38;5;124;43mreadonly\u001b[39;49m\u001b[38;5;124;43m'\u001b[39;49m\u001b[43m]\u001b[49m\u001b[43m,\u001b[49m\u001b[43m \u001b[49m\u001b[43mitershape\u001b[49m\u001b[38;5;241;43m=\u001b[39;49m\u001b[43mshape\u001b[49m\u001b[43m,\u001b[49m\u001b[43m \u001b[49m\u001b[43morder\u001b[49m\u001b[38;5;241;43m=\u001b[39;49m\u001b[38;5;124;43m'\u001b[39;49m\u001b[38;5;124;43mC\u001b[39;49m\u001b[38;5;124;43m'\u001b[39;49m\u001b[43m)\u001b[49m\n\u001b[0;32m    351\u001b[0m \u001b[38;5;28;01mwith\u001b[39;00m it:\n\u001b[0;32m    352\u001b[0m     \u001b[38;5;66;03m# never really has writebackifcopy semantics\u001b[39;00m\n\u001b[0;32m    353\u001b[0m     broadcast \u001b[38;5;241m=\u001b[39m it\u001b[38;5;241m.\u001b[39mitviews[\u001b[38;5;241m0\u001b[39m]\n",
      "\u001b[1;31mValueError\u001b[0m: operands could not be broadcast together with remapped shapes [original->remapped]: (2,1,3)  and requested shape (2,3,4)"
     ]
    }
   ],
   "source": [
    "a = np.arange(6).reshape(2, 1, 3)\n",
    "print(\"oriShape:\", a.shape)\n",
    "print(\"oriStrides:\", np.array(a.strides) / a.itemsize)\n",
    "broadcastedA = np.broadcast_to(a, (2, 3, 4))\n",
    "print(\"broadcastedShape:\", broadcastedA.shape)\n",
    "print(\"broadcastedStrides:\", np.array(broadcastedA.strides) / broadcastedA.itemsize)"
   ]
  },
  {
   "cell_type": "code",
   "execution_count": 30,
   "id": "e2e7ef64",
   "metadata": {},
   "outputs": [
    {
     "data": {
      "text/plain": [
       "(1, 3)"
      ]
     },
     "execution_count": 30,
     "metadata": {},
     "output_type": "execute_result"
    }
   ],
   "source": []
  },
  {
   "cell_type": "code",
   "execution_count": 32,
   "id": "b690104d",
   "metadata": {},
   "outputs": [
    {
     "name": "stdout",
     "output_type": "stream",
     "text": [
      "oriShape: (1, 6)\n",
      "oriStrides: [6. 1.]\n",
      "broadcastedShape: (2, 6)\n",
      "broadcastedStrides: [0. 1.]\n"
     ]
    }
   ],
   "source": [
    "a = np.arange(6).reshape(1, 6)\n",
    "print(\"oriShape:\", a.shape)\n",
    "print(\"oriStrides:\", np.array(a.strides) / a.itemsize)\n",
    "broadcastedA = np.broadcast_to(a, (2, 6))\n",
    "print(\"broadcastedShape:\", broadcastedA.shape)\n",
    "print(\"broadcastedStrides:\", np.array(broadcastedA.strides) / broadcastedA.itemsize)"
   ]
  },
  {
   "cell_type": "code",
   "execution_count": 33,
   "id": "2decbaa6",
   "metadata": {},
   "outputs": [
    {
     "name": "stdout",
     "output_type": "stream",
     "text": [
      "oriShape: (6,)\n",
      "oriStrides: [1.]\n",
      "broadcastedShape: (2, 6)\n",
      "broadcastedStrides: [0. 1.]\n"
     ]
    }
   ],
   "source": [
    "a = np.arange(6).reshape(6)\n",
    "print(\"oriShape:\", a.shape)\n",
    "print(\"oriStrides:\", np.array(a.strides) / a.itemsize)\n",
    "broadcastedA = np.broadcast_to(a, (2, 6))\n",
    "print(\"broadcastedShape:\", broadcastedA.shape)\n",
    "print(\"broadcastedStrides:\", np.array(broadcastedA.strides) / broadcastedA.itemsize)"
   ]
  },
  {
   "cell_type": "code",
   "execution_count": 39,
   "id": "2c2cd8ff",
   "metadata": {},
   "outputs": [
    {
     "name": "stdout",
     "output_type": "stream",
     "text": [
      "oriShape: (6,)\n",
      "oriStrides: [1.]\n",
      "broadcastedShape: (1, 1, 6)\n",
      "broadcastedStrides: [0. 0. 1.]\n"
     ]
    }
   ],
   "source": [
    "a = np.arange(6).reshape(6)\n",
    "print(\"oriShape:\", a.shape)\n",
    "print(\"oriStrides:\", np.array(a.strides) / a.itemsize)\n",
    "broadcastedA = np.broadcast_to(a, (1, 1, 6))\n",
    "print(\"broadcastedShape:\", broadcastedA.shape)\n",
    "print(\"broadcastedStrides:\", np.array(broadcastedA.strides) / broadcastedA.itemsize)"
   ]
  },
  {
   "cell_type": "code",
   "execution_count": 38,
   "id": "9413f31d",
   "metadata": {},
   "outputs": [
    {
     "name": "stdout",
     "output_type": "stream",
     "text": [
      "oriShape: (6,)\n",
      "oriStrides: [1.]\n",
      "broadcastedShape: (2, 1, 6)\n",
      "broadcastedStrides: [0. 0. 1.]\n"
     ]
    }
   ],
   "source": [
    "a = np.arange(6).reshape(6)\n",
    "print(\"oriShape:\", a.shape)\n",
    "print(\"oriStrides:\", np.array(a.strides) / a.itemsize)\n",
    "broadcastedA = np.broadcast_to(a, (2, 1, 6))\n",
    "print(\"broadcastedShape:\", broadcastedA.shape)\n",
    "print(\"broadcastedStrides:\", np.array(broadcastedA.strides) / broadcastedA.itemsize)"
   ]
  },
  {
   "cell_type": "code",
   "execution_count": 40,
   "id": "d2ed3d42",
   "metadata": {},
   "outputs": [
    {
     "name": "stdout",
     "output_type": "stream",
     "text": [
      "oriShape: (1, 1, 6)\n",
      "oriStrides: [6. 6. 1.]\n",
      "broadcastedShape: (2, 1, 6)\n",
      "broadcastedStrides: [0. 0. 1.]\n"
     ]
    }
   ],
   "source": [
    "a = np.arange(6).reshape(1, 1, 6)\n",
    "print(\"oriShape:\", a.shape)\n",
    "print(\"oriStrides:\", np.array(a.strides) / a.itemsize)\n",
    "broadcastedA = np.broadcast_to(a, (2, 1, 6))\n",
    "print(\"broadcastedShape:\", broadcastedA.shape)\n",
    "print(\"broadcastedStrides:\", np.array(broadcastedA.strides) / broadcastedA.itemsize)"
   ]
  },
  {
   "cell_type": "code",
   "execution_count": 44,
   "id": "def29628",
   "metadata": {},
   "outputs": [
    {
     "name": "stdout",
     "output_type": "stream",
     "text": [
      "oriShape: (2, 6)\n",
      "oriStrides: [6. 1.]\n",
      "broadcastedShape: (1, 2, 2, 6)\n",
      "broadcastedStrides: [0. 0. 6. 1.]\n"
     ]
    }
   ],
   "source": [
    "a = np.arange(12).reshape(2, 6)\n",
    "print(\"oriShape:\", a.shape)\n",
    "print(\"oriStrides:\", np.array(a.strides) / a.itemsize)\n",
    "broadcastedA = np.broadcast_to(a, (1, 2, 2, 6))\n",
    "print(\"broadcastedShape:\", broadcastedA.shape)\n",
    "print(\"broadcastedStrides:\", np.array(broadcastedA.strides) / broadcastedA.itemsize)"
   ]
  },
  {
   "cell_type": "code",
   "execution_count": 45,
   "id": "f8b26e82",
   "metadata": {},
   "outputs": [
    {
     "name": "stdout",
     "output_type": "stream",
     "text": [
      "oriShape: (1, 1, 2, 6)\n",
      "oriStrides: [12. 12.  6.  1.]\n",
      "broadcastedShape: (1, 2, 2, 6)\n",
      "broadcastedStrides: [0. 0. 6. 1.]\n"
     ]
    }
   ],
   "source": [
    "a = np.arange(12).reshape(1, 1, 2, 6)\n",
    "print(\"oriShape:\", a.shape)\n",
    "print(\"oriStrides:\", np.array(a.strides) / a.itemsize)\n",
    "broadcastedA = np.broadcast_to(a, (1, 2, 2, 6))\n",
    "print(\"broadcastedShape:\", broadcastedA.shape)\n",
    "print(\"broadcastedStrides:\", np.array(broadcastedA.strides) / broadcastedA.itemsize)"
   ]
  },
  {
   "cell_type": "code",
   "execution_count": 8,
   "id": "f44fbd58",
   "metadata": {},
   "outputs": [
    {
     "name": "stdout",
     "output_type": "stream",
     "text": [
      "(3, 3)\n",
      "(3,)\n"
     ]
    },
    {
     "data": {
      "text/plain": [
       "array([[10, 21, 32],\n",
       "       [13, 24, 35],\n",
       "       [16, 27, 38]])"
      ]
     },
     "execution_count": 8,
     "metadata": {},
     "output_type": "execute_result"
    }
   ],
   "source": [
    "a = np.arange(9).reshape(3, 3)\n",
    "b = np.array([10, 20, 30])\n",
    "print(a.shape)\n",
    "print(b.shape)\n",
    "a + b"
   ]
  },
  {
   "cell_type": "code",
   "execution_count": 12,
   "id": "0d1cd716",
   "metadata": {},
   "outputs": [
    {
     "name": "stdout",
     "output_type": "stream",
     "text": [
      "(12, 4)\n"
     ]
    },
    {
     "data": {
      "text/plain": [
       "4"
      ]
     },
     "execution_count": 12,
     "metadata": {},
     "output_type": "execute_result"
    }
   ],
   "source": [
    "a = np.array([[1, 2, 3], [4, 5, 6], [7, 8, 9]])\n",
    "print(a.strides)\n",
    "sum(np.array([0, 1]) * a.strides)"
   ]
  },
  {
   "cell_type": "code",
   "execution_count": 8,
   "id": "f439c950",
   "metadata": {},
   "outputs": [
    {
     "data": {
      "text/plain": [
       "2"
      ]
     },
     "execution_count": 8,
     "metadata": {},
     "output_type": "execute_result"
    }
   ],
   "source": [
    "a[0, 1]"
   ]
  },
  {
   "cell_type": "code",
   "execution_count": 9,
   "id": "126854a2",
   "metadata": {},
   "outputs": [
    {
     "name": "stdout",
     "output_type": "stream",
     "text": [
      "[[[ 0  1  2  3]\n",
      "  [ 4  5  6  7]\n",
      "  [ 8  9 10 11]]\n",
      "\n",
      " [[12 13 14 15]\n",
      "  [16 17 18 19]\n",
      "  [20 21 22 23]]]\n",
      "(48, 16, 4)\n",
      "17\n"
     ]
    },
    {
     "data": {
      "text/plain": [
       "17.0"
      ]
     },
     "execution_count": 9,
     "metadata": {},
     "output_type": "execute_result"
    }
   ],
   "source": [
    "y = np.reshape(np.arange(2*3*4), (2,3,4))\n",
    "print(y)\n",
    "\n",
    "print(y.strides)\n",
    "print(y[1,1,1])\n",
    "\n",
    "offset=sum(y.strides * np.array((1,1,1)))\n",
    "offset/y.itemsize"
   ]
  },
  {
   "cell_type": "code",
   "execution_count": 11,
   "id": "f6db33da",
   "metadata": {},
   "outputs": [
    {
     "data": {
      "text/plain": [
       "68"
      ]
     },
     "execution_count": 11,
     "metadata": {},
     "output_type": "execute_result"
    }
   ],
   "source": [
    "sum(y.strides * np.array((1,1,1)))\n",
    "# offset/y.itemsize"
   ]
  },
  {
   "cell_type": "code",
   "execution_count": null,
   "id": "4cd46c71",
   "metadata": {},
   "outputs": [],
   "source": []
  },
  {
   "cell_type": "code",
   "execution_count": 2,
   "id": "d0db506b",
   "metadata": {},
   "outputs": [
    {
     "name": "stdout",
     "output_type": "stream",
     "text": [
      "a.itemsize=4\n",
      "[[0 1 2]\n",
      " [3 4 5]\n",
      " [6 7 8]]\n",
      "a.shape=(3, 3)\n",
      "a.strides=(12, 4)\n"
     ]
    }
   ],
   "source": [
    "a = np.arange(9).reshape((3, 3))\n",
    "print(f\"{a.itemsize=}\")\n",
    "print(a)\n",
    "print(f\"{a.shape=}\")\n",
    "print(f\"{a.strides=}\")"
   ]
  },
  {
   "cell_type": "code",
   "execution_count": 3,
   "id": "295c094b",
   "metadata": {},
   "outputs": [
    {
     "name": "stdout",
     "output_type": "stream",
     "text": [
      "b.itemsize=4\n",
      "[0 1 2]\n",
      "b.shape=(3,)\n",
      "b.strides=(4,)\n"
     ]
    }
   ],
   "source": [
    "b = np.arange(3)\n",
    "print(f\"{b.itemsize=}\")\n",
    "print(b)\n",
    "print(f\"{b.shape=}\")\n",
    "print(f\"{b.strides=}\")"
   ]
  },
  {
   "cell_type": "code",
   "execution_count": 10,
   "id": "25b80eed",
   "metadata": {},
   "outputs": [
    {
     "data": {
      "text/plain": [
       "(0, 4)"
      ]
     },
     "execution_count": 10,
     "metadata": {},
     "output_type": "execute_result"
    }
   ],
   "source": [
    "np.broadcast_to(b, (3, 3)).strides"
   ]
  },
  {
   "cell_type": "code",
   "execution_count": 5,
   "id": "a93e682a",
   "metadata": {},
   "outputs": [
    {
     "data": {
      "text/plain": [
       "array([[ 0,  2,  4],\n",
       "       [ 3,  5,  7],\n",
       "       [ 6,  8, 10]])"
      ]
     },
     "execution_count": 5,
     "metadata": {},
     "output_type": "execute_result"
    }
   ],
   "source": [
    "a + b"
   ]
  },
  {
   "cell_type": "code",
   "execution_count": null,
   "id": "39bed38e",
   "metadata": {},
   "outputs": [],
   "source": []
  },
  {
   "cell_type": "code",
   "execution_count": 97,
   "id": "03db3e66",
   "metadata": {},
   "outputs": [
    {
     "name": "stdout",
     "output_type": "stream",
     "text": [
      "a.itemsize=4\n",
      "[[0]\n",
      " [1]\n",
      " [2]]\n",
      "a.shape=(3, 1)\n",
      "a.strides=(4, 4)\n",
      "[[0 0]\n",
      " [1 1]\n",
      " [2 2]]\n",
      "a.shape=(3, 2)\n",
      "a.strides=(4, 0)\n"
     ]
    }
   ],
   "source": [
    "a = np.arange(3).reshape((3, 1))\n",
    "print(f\"{a.itemsize=}\")\n",
    "print(a)\n",
    "print(f\"{a.shape=}\")\n",
    "print(f\"{a.strides=}\")\n",
    "\n",
    "a = np.broadcast_to(a, (3, 2))\n",
    "print(a)\n",
    "print(f\"{a.shape=}\")\n",
    "print(f\"{a.strides=}\")"
   ]
  },
  {
   "cell_type": "code",
   "execution_count": 101,
   "id": "1db9c494",
   "metadata": {},
   "outputs": [
    {
     "name": "stdout",
     "output_type": "stream",
     "text": [
      "A=array([[[ 0,  1,  2,  3],\n",
      "        [ 4,  5,  6,  7]],\n",
      "\n",
      "       [[ 8,  9, 10, 11],\n",
      "        [12, 13, 14, 15]],\n",
      "\n",
      "       [[16, 17, 18, 19],\n",
      "        [20, 21, 22, 23]]])\n",
      "A.shape=(3, 2, 4)\n",
      "B=array([[[0]],\n",
      "\n",
      "       [[1]],\n",
      "\n",
      "       [[2]]])\n",
      "B.shape=(3, 1, 1)\n"
     ]
    }
   ],
   "source": [
    "A = np.arange(24).reshape(3,2,4)\n",
    "B = np.arange(3)[:, None, None]\n",
    "print(f\"{A=}\\n{A.shape=}\")\n",
    "print(f\"{B=}\\n{B.shape=}\")"
   ]
  },
  {
   "cell_type": "code",
   "execution_count": 103,
   "id": "3bfb5712",
   "metadata": {},
   "outputs": [
    {
     "name": "stdout",
     "output_type": "stream",
     "text": [
      "(array([0, 1, 2, 3, 4, 5, 6, 7]), array([0, 0, 0, 0, 0, 0, 0, 0]))\n",
      "(array([ 8,  9, 10, 11, 12, 13, 14, 15]), array([1, 1, 1, 1, 1, 1, 1, 1]))\n",
      "(array([16, 17, 18, 19, 20, 21, 22, 23]), array([2, 2, 2, 2, 2, 2, 2, 2]))\n"
     ]
    }
   ],
   "source": [
    "it = np.nditer((A, B), flags=['external_loop'])\n",
    "while not it.finished:\n",
    "    print(it[:])\n",
    "    it.iternext()"
   ]
  },
  {
   "cell_type": "code",
   "execution_count": 104,
   "id": "bb5f7b67",
   "metadata": {},
   "outputs": [
    {
     "name": "stdout",
     "output_type": "stream",
     "text": [
      "[[[ 0  1  2  3]\n",
      "  [ 4  5  6  7]]\n",
      "\n",
      " [[ 9 10 11 12]\n",
      "  [13 14 15 16]]\n",
      "\n",
      " [[18 19 20 21]\n",
      "  [22 23 24 25]]]\n"
     ]
    }
   ],
   "source": [
    "print(A + B)"
   ]
  },
  {
   "cell_type": "code",
   "execution_count": 112,
   "id": "4a909926",
   "metadata": {},
   "outputs": [
    {
     "name": "stdout",
     "output_type": "stream",
     "text": [
      "[[[0]\n",
      "  [1]]]\n",
      "(array([0, 1, 2, 3]), array([0, 0, 0, 0]))\n",
      "(array([4, 5, 6, 7]), array([1, 1, 1, 1]))\n",
      "(array([ 8,  9, 10, 11]), array([0, 0, 0, 0]))\n",
      "(array([12, 13, 14, 15]), array([1, 1, 1, 1]))\n",
      "(array([16, 17, 18, 19]), array([0, 0, 0, 0]))\n",
      "(array([20, 21, 22, 23]), array([1, 1, 1, 1]))\n"
     ]
    }
   ],
   "source": [
    "C = np.arange(2)[None,:,None]\n",
    "print(C)\n",
    "it = np.nditer((A,C), flags=['external_loop'])\n",
    "while not it.finished:\n",
    "    print(it[:])\n",
    "    it.iternext()"
   ]
  },
  {
   "cell_type": "code",
   "execution_count": 113,
   "id": "090ca7f3",
   "metadata": {},
   "outputs": [
    {
     "name": "stdout",
     "output_type": "stream",
     "text": [
      "[[[ 0  1  2  3]\n",
      "  [ 5  6  7  8]]\n",
      "\n",
      " [[ 8  9 10 11]\n",
      "  [13 14 15 16]]\n",
      "\n",
      " [[16 17 18 19]\n",
      "  [21 22 23 24]]]\n"
     ]
    }
   ],
   "source": [
    "print(A + C)"
   ]
  },
  {
   "cell_type": "code",
   "execution_count": 116,
   "id": "f29de460",
   "metadata": {},
   "outputs": [
    {
     "data": {
      "text/plain": [
       "[(array(0), array(0)),\n",
       " (array(1), array(0)),\n",
       " (array(2), array(0)),\n",
       " (array(3), array(0)),\n",
       " (array(4), array(1)),\n",
       " (array(5), array(1)),\n",
       " (array(6), array(1)),\n",
       " (array(7), array(1)),\n",
       " (array(8), array(0)),\n",
       " (array(9), array(0)),\n",
       " (array(10), array(0)),\n",
       " (array(11), array(0)),\n",
       " (array(12), array(1)),\n",
       " (array(13), array(1)),\n",
       " (array(14), array(1)),\n",
       " (array(15), array(1)),\n",
       " (array(16), array(0)),\n",
       " (array(17), array(0)),\n",
       " (array(18), array(0)),\n",
       " (array(19), array(0)),\n",
       " (array(20), array(1)),\n",
       " (array(21), array(1)),\n",
       " (array(22), array(1)),\n",
       " (array(23), array(1))]"
      ]
     },
     "execution_count": 116,
     "metadata": {},
     "output_type": "execute_result"
    }
   ],
   "source": [
    "np.nditer((A, C))"
   ]
  },
  {
   "cell_type": "code",
   "execution_count": 118,
   "id": "38e18788",
   "metadata": {},
   "outputs": [
    {
     "data": {
      "text/plain": [
       "[array([[[ 0,  1,  2,  3],\n",
       "         [ 4,  5,  6,  7]],\n",
       " \n",
       "        [[ 8,  9, 10, 11],\n",
       "         [12, 13, 14, 15]],\n",
       " \n",
       "        [[16, 17, 18, 19],\n",
       "         [20, 21, 22, 23]]]),\n",
       " array([[[0, 0, 0, 0],\n",
       "         [0, 0, 0, 0]],\n",
       " \n",
       "        [[1, 1, 1, 1],\n",
       "         [1, 1, 1, 1]],\n",
       " \n",
       "        [[2, 2, 2, 2],\n",
       "         [2, 2, 2, 2]]])]"
      ]
     },
     "execution_count": 118,
     "metadata": {},
     "output_type": "execute_result"
    }
   ],
   "source": [
    "np.broadcast_arrays(A, B)"
   ]
  },
  {
   "cell_type": "code",
   "execution_count": 119,
   "id": "24700d2b",
   "metadata": {},
   "outputs": [
    {
     "name": "stdout",
     "output_type": "stream",
     "text": [
      "x.strides=(4,)\n",
      "broadcasted_x.strides=(0, 4)\n"
     ]
    }
   ],
   "source": [
    "x = np.array([1, 2, 3])\n",
    "print(f\"{x.strides=}\")\n",
    "broadcasted_x = np.broadcast_to(x, (3, 3))\n",
    "print(f\"{broadcasted_x.strides=}\")"
   ]
  },
  {
   "cell_type": "code",
   "execution_count": 122,
   "id": "6232a13c",
   "metadata": {},
   "outputs": [
    {
     "data": {
      "text/plain": [
       "{'data': (2076584971792, False),\n",
       " 'strides': None,\n",
       " 'descr': [('', '<i4')],\n",
       " 'typestr': '<i4',\n",
       " 'shape': (3,),\n",
       " 'version': 3}"
      ]
     },
     "execution_count": 122,
     "metadata": {},
     "output_type": "execute_result"
    }
   ],
   "source": [
    "x.__array_interface__"
   ]
  },
  {
   "cell_type": "code",
   "execution_count": 121,
   "id": "e17dd339",
   "metadata": {},
   "outputs": [
    {
     "data": {
      "text/plain": [
       "{'data': (2076584971792, True),\n",
       " 'strides': (0, 4),\n",
       " 'descr': [('', '<i4')],\n",
       " 'typestr': '<i4',\n",
       " 'shape': (3, 3),\n",
       " 'version': 3}"
      ]
     },
     "execution_count": 121,
     "metadata": {},
     "output_type": "execute_result"
    }
   ],
   "source": [
    "broadcasted_x.__array_interface__"
   ]
  },
  {
   "cell_type": "code",
   "execution_count": 124,
   "id": "79005cd4",
   "metadata": {},
   "outputs": [
    {
     "data": {
      "text/plain": [
       "{'data': (2076061247312, False),\n",
       " 'strides': None,\n",
       " 'descr': [('', '<i4')],\n",
       " 'typestr': '<i4',\n",
       " 'shape': (3, 3),\n",
       " 'version': 3}"
      ]
     },
     "execution_count": 124,
     "metadata": {},
     "output_type": "execute_result"
    }
   ],
   "source": [
    "test_x = np.array([[1, 2, 3], [1, 2, 3], [1, 2, 3]])\n",
    "test_x.__array_interface__"
   ]
  },
  {
   "cell_type": "code",
   "execution_count": 126,
   "id": "e3b63eaf",
   "metadata": {},
   "outputs": [
    {
     "data": {
      "text/plain": [
       "9"
      ]
     },
     "execution_count": 126,
     "metadata": {},
     "output_type": "execute_result"
    }
   ],
   "source": [
    "broadcasted_x.size"
   ]
  },
  {
   "cell_type": "code",
   "execution_count": null,
   "id": "209e61db",
   "metadata": {},
   "outputs": [],
   "source": []
  }
 ],
 "metadata": {
  "kernelspec": {
   "display_name": "Python 3 (ipykernel)",
   "language": "python",
   "name": "python3"
  },
  "language_info": {
   "codemirror_mode": {
    "name": "ipython",
    "version": 3
   },
   "file_extension": ".py",
   "mimetype": "text/x-python",
   "name": "python",
   "nbconvert_exporter": "python",
   "pygments_lexer": "ipython3",
   "version": "3.10.8"
  }
 },
 "nbformat": 4,
 "nbformat_minor": 5
}
